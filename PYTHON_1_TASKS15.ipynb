{
 "cells": [
  {
   "cell_type": "markdown",
   "id": "cc3ff085",
   "metadata": {},
   "source": [
    "### TASK-1\n",
    "Given two integer numbers return their product only if the product is equal to or lower than 1000, else return their sum."
   ]
  },
  {
   "cell_type": "code",
   "execution_count": 1,
   "id": "9fd58ac7",
   "metadata": {},
   "outputs": [
    {
     "name": "stdout",
     "output_type": "stream",
     "text": [
      "45\n"
     ]
    }
   ],
   "source": [
    "a=int(input())"
   ]
  },
  {
   "cell_type": "code",
   "execution_count": 2,
   "id": "cccecadb",
   "metadata": {},
   "outputs": [
    {
     "name": "stdout",
     "output_type": "stream",
     "text": [
      "34\n"
     ]
    }
   ],
   "source": [
    "b=int(input())\n",
    "\n"
   ]
  },
  {
   "cell_type": "code",
   "execution_count": 3,
   "id": "3126e564",
   "metadata": {},
   "outputs": [
    {
     "data": {
      "text/plain": [
       "int"
      ]
     },
     "execution_count": 3,
     "metadata": {},
     "output_type": "execute_result"
    }
   ],
   "source": [
    "type(a)"
   ]
  },
  {
   "cell_type": "code",
   "execution_count": 4,
   "id": "98e0d92b",
   "metadata": {},
   "outputs": [
    {
     "name": "stdout",
     "output_type": "stream",
     "text": [
      "79\n"
     ]
    }
   ],
   "source": [
    "if a*b<=1000:\n",
    "    print(a*b)\n",
    "else:\n",
    "        print(a+b)"
   ]
  },
  {
   "cell_type": "code",
   "execution_count": 77,
   "id": "b45f538d",
   "metadata": {},
   "outputs": [],
   "source": [
    "def prd_sum(a,b):\n",
    "    return a*b if a<=10000 else a+b\n"
   ]
  },
  {
   "cell_type": "code",
   "execution_count": 81,
   "id": "81ad23d9",
   "metadata": {},
   "outputs": [
    {
     "data": {
      "text/plain": [
       "3915"
      ]
     },
     "execution_count": 81,
     "metadata": {},
     "output_type": "execute_result"
    }
   ],
   "source": [
    "prd_sum(45,87)"
   ]
  },
  {
   "cell_type": "markdown",
   "id": "455bb49e",
   "metadata": {},
   "source": [
    "### TASK-2 \n",
    "Write a program to remove characters from a string starting from zero up to n and return a new string.\n",
    "example :\n",
    "(\"divyam\", 2) so output must be vyam. Here we need to remove first two characters from a string"
   ]
  },
  {
   "cell_type": "code",
   "execution_count": 5,
   "id": "03b3ea0b",
   "metadata": {},
   "outputs": [],
   "source": [
    "def split_str(a,n):\n",
    "    return a[n:]\n",
    "    "
   ]
  },
  {
   "cell_type": "code",
   "execution_count": 6,
   "id": "8251ae6c",
   "metadata": {},
   "outputs": [
    {
     "data": {
      "text/plain": [
       "'vyam'"
      ]
     },
     "execution_count": 6,
     "metadata": {},
     "output_type": "execute_result"
    }
   ],
   "source": [
    "split_str(\"divyam\",2)"
   ]
  },
  {
   "cell_type": "markdown",
   "id": "216f67b0",
   "metadata": {},
   "source": [
    "### TASK_4\n",
    "Write a program to accept a string from the user and display characters that are present at an even index number.\n"
   ]
  },
  {
   "cell_type": "code",
   "execution_count": 7,
   "id": "d0f32036",
   "metadata": {},
   "outputs": [],
   "source": [
    "a=\"aayush\""
   ]
  },
  {
   "cell_type": "code",
   "execution_count": 9,
   "id": "f16b4725",
   "metadata": {},
   "outputs": [
    {
     "data": {
      "text/plain": [
       "'ays'"
      ]
     },
     "execution_count": 9,
     "metadata": {},
     "output_type": "execute_result"
    }
   ],
   "source": [
    "a[0::2]"
   ]
  },
  {
   "cell_type": "code",
   "execution_count": 86,
   "id": "95c49d5e",
   "metadata": {},
   "outputs": [
    {
     "data": {
      "text/plain": [
       "'au'"
      ]
     },
     "execution_count": 86,
     "metadata": {},
     "output_type": "execute_result"
    }
   ],
   "source": [
    "a[0::3]"
   ]
  },
  {
   "cell_type": "code",
   "execution_count": 13,
   "id": "0f80b5d3",
   "metadata": {},
   "outputs": [
    {
     "name": "stdout",
     "output_type": "stream",
     "text": [
      "a\n",
      "y\n",
      "s\n"
     ]
    }
   ],
   "source": [
    "for i in range(len(a)):\n",
    "    if (i%2==0):\n",
    "        print(a[i])"
   ]
  },
  {
   "cell_type": "markdown",
   "id": "1fac2b38",
   "metadata": {},
   "source": [
    "### TASK-5\n",
    "\n",
    "Write a function to return True if the first and last number of a given list is same. If numbers are different then return False."
   ]
  },
  {
   "cell_type": "code",
   "execution_count": 25,
   "id": "4a40c9c6",
   "metadata": {},
   "outputs": [],
   "source": [
    "a=[10,20,30,40,50,10]"
   ]
  },
  {
   "cell_type": "code",
   "execution_count": 26,
   "id": "a281a06d",
   "metadata": {},
   "outputs": [],
   "source": [
    "def firstlast(n):\n",
    "    if n[0]==n[len(n)-1]:\n",
    "        return True\n",
    "    else:\n",
    "        return False"
   ]
  },
  {
   "cell_type": "code",
   "execution_count": 27,
   "id": "c36a0082",
   "metadata": {},
   "outputs": [
    {
     "data": {
      "text/plain": [
       "True"
      ]
     },
     "execution_count": 27,
     "metadata": {},
     "output_type": "execute_result"
    }
   ],
   "source": [
    "firstlast(a)"
   ]
  },
  {
   "cell_type": "markdown",
   "id": "735dcf36",
   "metadata": {},
   "source": [
    "### TASK-6\n"
   ]
  },
  {
   "cell_type": "code",
   "execution_count": 21,
   "id": "a17277dc",
   "metadata": {},
   "outputs": [],
   "source": [
    "a=[10,20,33,46,55]"
   ]
  },
  {
   "cell_type": "markdown",
   "id": "ee297df8",
   "metadata": {},
   "source": []
  },
  {
   "cell_type": "code",
   "execution_count": 3,
   "id": "85281ccb",
   "metadata": {},
   "outputs": [
    {
     "ename": "NameError",
     "evalue": "name 'a' is not defined",
     "output_type": "error",
     "traceback": [
      "\u001b[1;31m---------------------------------------------------------------------------\u001b[0m",
      "\u001b[1;31mNameError\u001b[0m                                 Traceback (most recent call last)",
      "Input \u001b[1;32mIn [3]\u001b[0m, in \u001b[0;36m<cell line: 1>\u001b[1;34m()\u001b[0m\n\u001b[1;32m----> 1\u001b[0m n\u001b[38;5;241m=\u001b[39m\u001b[38;5;28mlen\u001b[39m(\u001b[43ma\u001b[49m)\n\u001b[0;32m      2\u001b[0m n\n\u001b[0;32m      3\u001b[0m i\u001b[38;5;241m=\u001b[39m\u001b[38;5;241m0\u001b[39m\n",
      "\u001b[1;31mNameError\u001b[0m: name 'a' is not defined"
     ]
    }
   ],
   "source": [
    "n=len(a)\n",
    "n\n",
    "i=0"
   ]
  },
  {
   "cell_type": "code",
   "execution_count": 23,
   "id": "bf36a946",
   "metadata": {},
   "outputs": [
    {
     "name": "stdout",
     "output_type": "stream",
     "text": [
      "10\n",
      "20\n",
      "55\n"
     ]
    }
   ],
   "source": [
    "for i in range(i,n):\n",
    "    if a[i]%5==0:\n",
    "        print (a[i])"
   ]
  },
  {
   "cell_type": "markdown",
   "id": "d074a3b5",
   "metadata": {},
   "source": [
    "### TASK-7\n"
   ]
  },
  {
   "cell_type": "code",
   "execution_count": 4,
   "id": "01ad7980",
   "metadata": {},
   "outputs": [
    {
     "data": {
      "text/plain": [
       "2"
      ]
     },
     "execution_count": 4,
     "metadata": {},
     "output_type": "execute_result"
    }
   ],
   "source": [
    "str_x = \"Emma is good developer. Emma is a writer\"\n",
    "str_x.count(\"Emma\")"
   ]
  },
  {
   "cell_type": "markdown",
   "id": "f7fde5e1",
   "metadata": {},
   "source": [
    "# TASK-8"
   ]
  },
  {
   "cell_type": "code",
   "execution_count": 8,
   "id": "22e8545b",
   "metadata": {},
   "outputs": [
    {
     "name": "stdout",
     "output_type": "stream",
     "text": [
      "\n",
      "1\n",
      "22\n",
      "333\n",
      "4444\n",
      "55555\n"
     ]
    }
   ],
   "source": [
    "\n",
    "for i in range(6):\n",
    "        for n in range(i):\n",
    "                    print(i,end=\"\")\n",
    "        print()"
   ]
  },
  {
   "cell_type": "markdown",
   "id": "1e2307bc",
   "metadata": {},
   "source": [
    "# TASK-9"
   ]
  },
  {
   "cell_type": "code",
   "execution_count": 14,
   "id": "63b6192a",
   "metadata": {},
   "outputs": [
    {
     "name": "stdout",
     "output_type": "stream",
     "text": [
      "1\n",
      "<class 'int'>\n",
      "<class 'bool'>\n"
     ]
    }
   ],
   "source": [
    "x= 1\n",
    "print(x)\n",
    "print(type(x))\n",
    "type(x)\n",
    "\n",
    "\n",
    "b1 = True\n",
    "b2 = False\n",
    "print(type(b2))"
   ]
  },
  {
   "cell_type": "code",
   "execution_count": 15,
   "id": "e6ea514c",
   "metadata": {},
   "outputs": [
    {
     "data": {
      "text/plain": [
       "'Day 1'"
      ]
     },
     "execution_count": 15,
     "metadata": {},
     "output_type": "execute_result"
    }
   ],
   "source": [
    "'Day ' +str(1)"
   ]
  },
  {
   "cell_type": "code",
   "execution_count": 17,
   "id": "7f4ed8ca",
   "metadata": {},
   "outputs": [
    {
     "data": {
      "text/plain": [
       "'Aayush'"
      ]
     },
     "execution_count": 17,
     "metadata": {},
     "output_type": "execute_result"
    }
   ],
   "source": [
    "'Aayu' +str('sh')"
   ]
  },
  {
   "cell_type": "code",
   "execution_count": 23,
   "id": "ab39e871",
   "metadata": {},
   "outputs": [
    {
     "name": "stdout",
     "output_type": "stream",
     "text": [
      "I am 25 years old\n"
     ]
    }
   ],
   "source": [
    "print(\"I am %d years old\" %25)"
   ]
  },
  {
   "cell_type": "code",
   "execution_count": 24,
   "id": "f5a7b780",
   "metadata": {},
   "outputs": [
    {
     "name": "stdout",
     "output_type": "stream",
     "text": [
      "your name is:-Aayush\n"
     ]
    }
   ],
   "source": [
    "name=input(\"your name is:-\")"
   ]
  },
  {
   "cell_type": "code",
   "execution_count": 27,
   "id": "83bf9535",
   "metadata": {},
   "outputs": [
    {
     "name": "stdout",
     "output_type": "stream",
     "text": [
      "your name is :- Aayush\n"
     ]
    }
   ],
   "source": [
    "print(\"your name is :-\",name)"
   ]
  },
  {
   "cell_type": "code",
   "execution_count": 31,
   "id": "fa0de879",
   "metadata": {},
   "outputs": [
    {
     "name": "stdout",
     "output_type": "stream",
     "text": [
      "id of list_a = 1034583928512\n",
      "id of list_b = 1034610336448\n",
      "list_a is list_b = False\n",
      "list_a == list_b = True\n"
     ]
    }
   ],
   "source": [
    "list_a = [1,2,3]\n",
    "list_b = [1,2,3]\n",
    "\n",
    "print(f\"id of list_a = {id(list_a)}\")\n",
    "print(f\"id of list_b = {id(list_b)}\")\n",
    "print(f\"list_a is list_b = {list_a is list_b}\")\n",
    "print(f\"list_a == list_b = {list_a == list_b}\")"
   ]
  },
  {
   "cell_type": "code",
   "execution_count": 32,
   "id": "2b3a4345",
   "metadata": {},
   "outputs": [
    {
     "name": "stdout",
     "output_type": "stream",
     "text": [
      "[1, 2, 3, 4, 5]\n"
     ]
    }
   ],
   "source": [
    "alpha = [1, 2, 3]\n",
    "beta = alpha # an alias for alpha\n",
    "beta += [4, 5] # extends the original list with two more elements\n",
    "beta = beta + [6, 7] # reassigns beta to a new\n",
    "print(alpha)"
   ]
  },
  {
   "cell_type": "code",
   "execution_count": 35,
   "id": "5b9c32c8",
   "metadata": {},
   "outputs": [
    {
     "name": "stdout",
     "output_type": "stream",
     "text": [
      "3121\n"
     ]
    }
   ],
   "source": [
    "str=\"1213\"\n",
    "print(str[::-1])"
   ]
  },
  {
   "cell_type": "markdown",
   "id": "df02c49a",
   "metadata": {},
   "source": [
    "# TASK-9\n"
   ]
  },
  {
   "cell_type": "code",
   "execution_count": 64,
   "id": "da4b4d0b",
   "metadata": {},
   "outputs": [],
   "source": [
    "def palindrome_no(orig_no):\n",
    "\n",
    "    for i in range(0,int(len(orig_no)/2)):\n",
    "        if orig_no[i]==orig_no[len(orig_no)-i-1]:\n",
    "            return True\n",
    "        else:\n",
    "            return False\n",
    "    "
   ]
  },
  {
   "cell_type": "code",
   "execution_count": 69,
   "id": "bab77222",
   "metadata": {},
   "outputs": [
    {
     "name": "stdout",
     "output_type": "stream",
     "text": [
      "Enter a no.123321\n",
      "123321 is a palindrome no\n"
     ]
    }
   ],
   "source": [
    "n=input(\"Enter a no.\")\n",
    "c= palindrome_no(n)\n",
    "if(c):\n",
    "    print(n,\"is a palindrome no\")\n",
    "else:\n",
    "    print(n,\"is not a palindrome no\")"
   ]
  },
  {
   "cell_type": "markdown",
   "id": "53b0a86c",
   "metadata": {},
   "source": [
    "# TASK-10"
   ]
  },
  {
   "cell_type": "code",
   "execution_count": 120,
   "id": "4ba2339d",
   "metadata": {},
   "outputs": [
    {
     "name": "stdout",
     "output_type": "stream",
     "text": [
      "25\n",
      "35\n",
      "14\n",
      "18\n",
      "24\n"
     ]
    }
   ],
   "source": [
    "list1 = [10, 20, 25, 30, 35]\n",
    "list2 = [14, 18, 19, 23, 24]\n",
    "list3=[]\n",
    "list4=[]\n",
    "for i in range(len(list1)):\n",
    "    if list1[i] % 2 != 0:\n",
    "        list3=list1[i]\n",
    "        print (list3)\n",
    "for j in range(len(list2)):\n",
    "    if list2[j] % 2 == 0:\n",
    "        list4=list2[j]\n",
    "        print(list4)\n"
   ]
  },
  {
   "cell_type": "code",
   "execution_count": null,
   "id": "7bad0e72",
   "metadata": {},
   "outputs": [],
   "source": []
  },
  {
   "cell_type": "markdown",
   "id": "77cc2fb3",
   "metadata": {},
   "source": [
    "# TASK-11"
   ]
  },
  {
   "cell_type": "code",
   "execution_count": 7,
   "id": "854fbb8d",
   "metadata": {},
   "outputs": [
    {
     "name": "stdout",
     "output_type": "stream",
     "text": [
      "Enter a no: 123445\n",
      "544321\n"
     ]
    }
   ],
   "source": [
    "# print(' '.join(reversed(string)))\n",
    "\n",
    "a=input(\"Enter a no: \")\n",
    "print(''.join(reversed(a)))"
   ]
  },
  {
   "cell_type": "code",
   "execution_count": 79,
   "id": "3d906c6d",
   "metadata": {},
   "outputs": [
    {
     "name": "stdout",
     "output_type": "stream",
     "text": [
      "543321   "
     ]
    }
   ],
   "source": [
    "print(a[::-1],end=\"   \")"
   ]
  },
  {
   "cell_type": "markdown",
   "id": "51645ef5",
   "metadata": {},
   "source": [
    "# TASK-12"
   ]
  },
  {
   "cell_type": "code",
   "execution_count": 131,
   "id": "e6659a84",
   "metadata": {},
   "outputs": [
    {
     "name": "stdout",
     "output_type": "stream",
     "text": [
      "1 2 3 4 5 6 7 8 9 10 \n",
      "2 4 6 8 10 12 14 16 18 20 \n",
      "3 6 9 12 15 18 21 24 27 30 \n",
      "4 8 12 16 20 24 28 32 36 40 \n",
      "5 10 15 20 25 30 35 40 45 50 \n",
      "6 12 18 24 30 36 42 48 54 60 \n",
      "7 14 21 28 35 42 49 56 63 70 \n",
      "8 16 24 32 40 48 56 64 72 80 \n",
      "9 18 27 36 45 54 63 72 81 90 \n",
      "10 20 30 40 50 60 70 80 90 100 \n"
     ]
    }
   ],
   "source": [
    "for i in range(1,11):\n",
    "    for j in range(1,11):\n",
    "        print(i*j,end=\" \")\n",
    "    print('')"
   ]
  },
  {
   "cell_type": "markdown",
   "id": "7cb8d9c2",
   "metadata": {},
   "source": [
    "# TASK-13"
   ]
  },
  {
   "cell_type": "code",
   "execution_count": 145,
   "id": "d2e8ec52",
   "metadata": {},
   "outputs": [
    {
     "name": "stdout",
     "output_type": "stream",
     "text": [
      "* * * * * \n",
      "* * * * \n",
      "* * * \n",
      "* * \n",
      "* \n",
      "\n"
     ]
    }
   ],
   "source": [
    "#Print downward Half-Pyramid Pattern with Star\n",
    "for i in range (6):\n",
    "    for j in range(0,5-i):\n",
    "        print(\"*\", end=\" \")\n",
    "    print(\"\")"
   ]
  },
  {
   "cell_type": "markdown",
   "id": "a75c9a65",
   "metadata": {},
   "source": [
    "# task 14:\n",
    "#Write a function called exponent(base, exp) that returns an int value of base raises to the power of exp.\n",
    "\n",
    "#ex \n",
    "#base = 2\n",
    "#exponent = 5"
   ]
  },
  {
   "cell_type": "code",
   "execution_count": 170,
   "id": "9a778801",
   "metadata": {},
   "outputs": [],
   "source": [
    "def exponent(base,exp):\n",
    "    ex=1\n",
    "    for i in range(exp):\n",
    "        ex=ex*base\n",
    "    return ex\n",
    "\n",
    "    "
   ]
  },
  {
   "cell_type": "code",
   "execution_count": 175,
   "id": "8a89d62e",
   "metadata": {},
   "outputs": [
    {
     "name": "stdout",
     "output_type": "stream",
     "text": [
      "256\n"
     ]
    }
   ],
   "source": [
    "print (exponent(4,4))"
   ]
  },
  {
   "cell_type": "code",
   "execution_count": null,
   "id": "edc96377",
   "metadata": {},
   "outputs": [],
   "source": []
  }
 ],
 "metadata": {
  "kernelspec": {
   "display_name": "Python 3 (ipykernel)",
   "language": "python",
   "name": "python3"
  },
  "language_info": {
   "codemirror_mode": {
    "name": "ipython",
    "version": 3
   },
   "file_extension": ".py",
   "mimetype": "text/x-python",
   "name": "python",
   "nbconvert_exporter": "python",
   "pygments_lexer": "ipython3",
   "version": "3.9.12"
  }
 },
 "nbformat": 4,
 "nbformat_minor": 5
}
